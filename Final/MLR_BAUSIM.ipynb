{
 "cells": [
  {
   "cell_type": "code",
   "execution_count": 100,
   "metadata": {},
   "outputs": [],
   "source": [
    "import numpy as np\n",
    "import pandas as pd\n",
    "from sklearn.model_selection import train_test_split\n",
    "from sklearn.linear_model import LinearRegression\n",
    "from sklearn.datasets import load_boston\n",
    "from sklearn.metrics import mean_squared_error\n",
    "#https://stackabuse.com/multiple-linear-regression-with-python/"
   ]
  },
  {
   "cell_type": "code",
   "execution_count": 101,
   "metadata": {},
   "outputs": [
    {
     "data": {
      "text/html": [
       "<div>\n",
       "<style scoped>\n",
       "    .dataframe tbody tr th:only-of-type {\n",
       "        vertical-align: middle;\n",
       "    }\n",
       "\n",
       "    .dataframe tbody tr th {\n",
       "        vertical-align: top;\n",
       "    }\n",
       "\n",
       "    .dataframe thead th {\n",
       "        text-align: right;\n",
       "    }\n",
       "</style>\n",
       "<table border=\"1\" class=\"dataframe\">\n",
       "  <thead>\n",
       "    <tr style=\"text-align: right;\">\n",
       "      <th></th>\n",
       "      <th>Floor_Area</th>\n",
       "      <th>Floor_Number</th>\n",
       "      <th>ofPeople_service</th>\n",
       "      <th>ofPeople_living</th>\n",
       "      <th>ofPeople_bedroom</th>\n",
       "      <th>total_window_area</th>\n",
       "      <th>Cooling</th>\n",
       "      <th>Heating</th>\n",
       "      <th>Lighting</th>\n",
       "    </tr>\n",
       "  </thead>\n",
       "  <tbody>\n",
       "    <tr>\n",
       "      <th>0</th>\n",
       "      <td>50.33</td>\n",
       "      <td>5</td>\n",
       "      <td>0.114</td>\n",
       "      <td>0.114</td>\n",
       "      <td>0.057</td>\n",
       "      <td>12.33</td>\n",
       "      <td>53.25</td>\n",
       "      <td>37.55</td>\n",
       "      <td>7.56</td>\n",
       "    </tr>\n",
       "    <tr>\n",
       "      <th>1</th>\n",
       "      <td>61.50</td>\n",
       "      <td>3</td>\n",
       "      <td>0.102</td>\n",
       "      <td>0.102</td>\n",
       "      <td>0.051</td>\n",
       "      <td>10.64</td>\n",
       "      <td>21.82</td>\n",
       "      <td>23.23</td>\n",
       "      <td>7.02</td>\n",
       "    </tr>\n",
       "    <tr>\n",
       "      <th>2</th>\n",
       "      <td>77.37</td>\n",
       "      <td>2</td>\n",
       "      <td>0.048</td>\n",
       "      <td>0.048</td>\n",
       "      <td>0.024</td>\n",
       "      <td>11.46</td>\n",
       "      <td>31.13</td>\n",
       "      <td>30.83</td>\n",
       "      <td>11.55</td>\n",
       "    </tr>\n",
       "    <tr>\n",
       "      <th>3</th>\n",
       "      <td>150.28</td>\n",
       "      <td>4</td>\n",
       "      <td>0.051</td>\n",
       "      <td>0.051</td>\n",
       "      <td>0.026</td>\n",
       "      <td>15.77</td>\n",
       "      <td>56.48</td>\n",
       "      <td>62.20</td>\n",
       "      <td>6.83</td>\n",
       "    </tr>\n",
       "    <tr>\n",
       "      <th>4</th>\n",
       "      <td>105.60</td>\n",
       "      <td>1</td>\n",
       "      <td>0.048</td>\n",
       "      <td>0.048</td>\n",
       "      <td>0.024</td>\n",
       "      <td>11.20</td>\n",
       "      <td>50.08</td>\n",
       "      <td>23.49</td>\n",
       "      <td>7.05</td>\n",
       "    </tr>\n",
       "  </tbody>\n",
       "</table>\n",
       "</div>"
      ],
      "text/plain": [
       "   Floor_Area  Floor_Number  ofPeople_service  ofPeople_living  \\\n",
       "0       50.33             5             0.114            0.114   \n",
       "1       61.50             3             0.102            0.102   \n",
       "2       77.37             2             0.048            0.048   \n",
       "3      150.28             4             0.051            0.051   \n",
       "4      105.60             1             0.048            0.048   \n",
       "\n",
       "   ofPeople_bedroom  total_window_area  Cooling  Heating  Lighting  \n",
       "0             0.057              12.33    53.25    37.55      7.56  \n",
       "1             0.051              10.64    21.82    23.23      7.02  \n",
       "2             0.024              11.46    31.13    30.83     11.55  \n",
       "3             0.026              15.77    56.48    62.20      6.83  \n",
       "4             0.024              11.20    50.08    23.49      7.05  "
      ]
     },
     "execution_count": 101,
     "metadata": {},
     "output_type": "execute_result"
    }
   ],
   "source": [
    "df = pd.read_csv('Combined_Izmir_continuous.csv')\n",
    "df.head(5)"
   ]
  },
  {
   "cell_type": "code",
   "execution_count": 105,
   "metadata": {},
   "outputs": [],
   "source": [
    "# Convert to numpy - Classification\n",
    "x_columns = df.columns.drop('Cooling').drop('Heating').drop('Lighting')\n",
    "x = df[x_columns].values\n",
    "y = df['Lighting'].values"
   ]
  },
  {
   "cell_type": "code",
   "execution_count": 106,
   "metadata": {},
   "outputs": [],
   "source": [
    "'''les = preprocessing.LabelEncoder()\n",
    "les.fit(data_iz['schedule_recorded'])\n",
    "les.transform(data_iz['schedule_recorded'])'''\n",
    "\n",
    "# Polynomial Regression\n",
    "def polyfit(x, y, degree):\n",
    "    results = {}\n",
    "\n",
    "    coeffs = np.polyfit(x, y, degree)\n",
    "     # Polynomial Coefficients\n",
    "    results['polynomial'] = coeffs.tolist()\n",
    "\n",
    "    correlation = np.corrcoef(x, y)[0,1]\n",
    "\n",
    "     # r\n",
    "    results['correlation'] = correlation\n",
    "     # r-squared\n",
    "    results['determination'] = correlation**2\n",
    "\n",
    "    return results['determination']"
   ]
  },
  {
   "cell_type": "code",
   "execution_count": 52,
   "metadata": {},
   "outputs": [
    {
     "data": {
      "text/plain": [
       "\"\\n#r-squared between variables(X's) and objective (Y)\\nfor i in range(len(data_iz.columns)):\\n    print(polyfit(izmir[lambda df: df.columns[i]], y,1))\\n    \\n# RM, LSTAT are X.\\n#X = pd.DataFrame(np.c_[boston['LSTAT'], boston['RM']], columns=['LSTAT','RM'])\\n\""
      ]
     },
     "execution_count": 52,
     "metadata": {},
     "output_type": "execute_result"
    }
   ],
   "source": [
    "'''\n",
    "#r-squared between variables(X's) and objective (Y)\n",
    "for i in range(len(data_iz.columns)):\n",
    "    print(polyfit(izmir[lambda df: df.columns[i]], y,1))\n",
    "    \n",
    "# RM, LSTAT are X.\n",
    "#X = pd.DataFrame(np.c_[boston['LSTAT'], boston['RM']], columns=['LSTAT','RM'])\n",
    "'''"
   ]
  },
  {
   "cell_type": "code",
   "execution_count": 107,
   "metadata": {},
   "outputs": [
    {
     "name": "stdout",
     "output_type": "stream",
     "text": [
      "Final score (MAPE): 219.1830960769313\n",
      "Final score (r2): 0.1667357551064707\n",
      "Final score (MAE): 0.1768220172569431\n",
      "Final score (RMSE): 0.21673849806311127\n"
     ]
    }
   ],
   "source": [
    "# based on polyfit results.\n",
    "from sklearn.model_selection import train_test_split\n",
    "import matplotlib.pyplot as plt\n",
    "from sklearn import preprocessing\n",
    "from sklearn import metrics\n",
    "\n",
    "min_max_scaler = preprocessing.MinMaxScaler() \n",
    "x = min_max_scaler.fit_transform(x)\n",
    "\n",
    "def normalize(v):\n",
    "    return (v- min(v))/(max(v)-min(v))\n",
    "y = normalize(y)\n",
    "\n",
    "#splitting of train and test set\n",
    "X_train, X_test, Y_train, Y_test = train_test_split(x, y, test_size = 0.1, random_state=9)\n",
    "\n",
    "lin_reg_mod = LinearRegression()\n",
    "lin_reg_mod.fit(X_train, Y_train)\n",
    "\n",
    "pred = lin_reg_mod.predict(X_test)\n",
    "\n",
    "def mean_absolute_percentage_error(y_true, y_pred): \n",
    "    y_true, y_pred = np.array(y_true), np.array(y_pred)\n",
    "    return np.mean(np.abs((y_true - y_pred) / y_true)) * 100\n",
    "\n",
    "score = mean_absolute_percentage_error(Y_test, pred)\n",
    "print(\"Final score (MAPE): {}\".format(score))\n",
    "\n",
    "score = polyfit(pred,Y_test, 2)\n",
    "print(\"Final score (r2): {}\".format(score))\n",
    "\n",
    "score = metrics.mean_absolute_error(pred,Y_test)\n",
    "print(\"Final score (MAE): {}\".format(score))\n",
    "\n",
    "score = np.sqrt(metrics.mean_squared_error(pred,Y_test))\n",
    "print(\"Final score (RMSE): {}\".format(score))"
   ]
  },
  {
   "cell_type": "code",
   "execution_count": 109,
   "metadata": {},
   "outputs": [
    {
     "name": "stdout",
     "output_type": "stream",
     "text": [
      "(1820, 6) (101, 6) (102, 6) (1820,) (101,) (102,)\n",
      "Final score (MAPE): 236.8863402576311\n",
      "Final score (MAE): 0.17925964603459968\n",
      "Final score (r2): 0.14433828342099325\n",
      "Final score (RMSE): 0.22235901168333513\n",
      "(102,) (102,)\n"
     ]
    }
   ],
   "source": [
    "from scipy import stats\n",
    "import numpy as np\n",
    "\n",
    "#splitting of train and test set\n",
    "X_train, X_val_and_test, Y_train, Y_val_and_test = train_test_split(x, y, test_size = 0.1, random_state=9)\n",
    "#splitting of test and validaiton set\n",
    "X_val, X_test, Y_val, Y_test = train_test_split(X_val_and_test, Y_val_and_test, test_size=0.5)\n",
    "print(X_train.shape, X_val.shape, X_test.shape, Y_train.shape, Y_val.shape, Y_test.shape)\n",
    "\n",
    "lin_reg_mod = LinearRegression()\n",
    "lin_reg_mod.fit(X_train, Y_train)\n",
    "\n",
    "pred = lin_reg_mod.predict(X_test)\n",
    "\n",
    "def mean_absolute_percentage_error(y_true, y_pred): \n",
    "    y_true, y_pred = np.array(y_true), np.array(y_pred)\n",
    "    return np.mean(np.abs((y_true - y_pred) / y_true)) * 100\n",
    "\n",
    "score = mean_absolute_percentage_error(Y_test, pred)\n",
    "print(\"Final score (MAPE): {}\".format(score))\n",
    "\n",
    "score = metrics.mean_absolute_error(pred,Y_test)\n",
    "print(\"Final score (MAE): {}\".format(score))\n",
    "\n",
    "slope, intercept, r_value, p_value, std_err = stats.linregress(Y_test, pred)\n",
    "score = np.power(r_value,2)\n",
    "print(\"Final score (r2): {}\".format(score))\n",
    "\n",
    "score = np.sqrt(metrics.mean_squared_error(pred,Y_test))\n",
    "print(\"Final score (RMSE): {}\".format(score))\n",
    "\n",
    "print (Y_test.shape, pred.shape)"
   ]
  },
  {
   "cell_type": "code",
   "execution_count": 30,
   "metadata": {},
   "outputs": [],
   "source": [
    "\n"
   ]
  },
  {
   "cell_type": "code",
   "execution_count": null,
   "metadata": {},
   "outputs": [],
   "source": []
  },
  {
   "cell_type": "code",
   "execution_count": null,
   "metadata": {},
   "outputs": [],
   "source": []
  },
  {
   "cell_type": "code",
   "execution_count": null,
   "metadata": {},
   "outputs": [],
   "source": []
  },
  {
   "cell_type": "code",
   "execution_count": 106,
   "metadata": {},
   "outputs": [],
   "source": []
  },
  {
   "cell_type": "code",
   "execution_count": null,
   "metadata": {},
   "outputs": [],
   "source": []
  },
  {
   "cell_type": "code",
   "execution_count": null,
   "metadata": {},
   "outputs": [],
   "source": []
  }
 ],
 "metadata": {
  "kernelspec": {
   "display_name": "Python 3",
   "language": "python",
   "name": "python3"
  },
  "language_info": {
   "codemirror_mode": {
    "name": "ipython",
    "version": 3
   },
   "file_extension": ".py",
   "mimetype": "text/x-python",
   "name": "python",
   "nbconvert_exporter": "python",
   "pygments_lexer": "ipython3",
   "version": "3.7.6"
  }
 },
 "nbformat": 4,
 "nbformat_minor": 2
}
