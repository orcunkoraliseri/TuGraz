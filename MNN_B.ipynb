{
 "cells": [
  {
   "cell_type": "code",
   "execution_count": 1,
   "metadata": {},
   "outputs": [],
   "source": [
    "#https://github.com/jeffheaton/t81_558_deep_learning/blob/master/t81_558_class_04_3_regression.ipynb\n",
    "\n",
    "#https://github.com/aa-gamJain/Regression-with-Keras-Deep-Learning-Library-in-Python/blob/master/Regression%20Tutorial%20with%20the%20Keras%20Deep%20Learning%20Library%20in%20Python.ipynb"
   ]
  },
  {
   "cell_type": "code",
   "execution_count": 1,
   "metadata": {},
   "outputs": [
    {
     "data": {
      "text/html": [
       "<div>\n",
       "<style scoped>\n",
       "    .dataframe tbody tr th:only-of-type {\n",
       "        vertical-align: middle;\n",
       "    }\n",
       "\n",
       "    .dataframe tbody tr th {\n",
       "        vertical-align: top;\n",
       "    }\n",
       "\n",
       "    .dataframe thead th {\n",
       "        text-align: right;\n",
       "    }\n",
       "</style>\n",
       "<table border=\"1\" class=\"dataframe\">\n",
       "  <thead>\n",
       "    <tr style=\"text-align: right;\">\n",
       "      <th></th>\n",
       "      <th>Floor_Area</th>\n",
       "      <th>Floor_Number</th>\n",
       "      <th>ofPeople_service</th>\n",
       "      <th>ofPeople_living</th>\n",
       "      <th>ofPeople_bedroom</th>\n",
       "      <th>Construction_recorded</th>\n",
       "      <th>schedule_recorded</th>\n",
       "      <th>Window_Count</th>\n",
       "      <th>w_north</th>\n",
       "      <th>w_north-east</th>\n",
       "      <th>...</th>\n",
       "      <th>o_east</th>\n",
       "      <th>o_south-east</th>\n",
       "      <th>o_south</th>\n",
       "      <th>o_south-west</th>\n",
       "      <th>o_west</th>\n",
       "      <th>o_north-west</th>\n",
       "      <th>Cooling</th>\n",
       "      <th>Heating</th>\n",
       "      <th>Lighting</th>\n",
       "      <th>Equipment</th>\n",
       "    </tr>\n",
       "  </thead>\n",
       "  <tbody>\n",
       "    <tr>\n",
       "      <th>0</th>\n",
       "      <td>50.33</td>\n",
       "      <td>5</td>\n",
       "      <td>0.114</td>\n",
       "      <td>0.114</td>\n",
       "      <td>0.057</td>\n",
       "      <td>0</td>\n",
       "      <td>0</td>\n",
       "      <td>4</td>\n",
       "      <td>0</td>\n",
       "      <td>0</td>\n",
       "      <td>...</td>\n",
       "      <td>0</td>\n",
       "      <td>0</td>\n",
       "      <td>0</td>\n",
       "      <td>0</td>\n",
       "      <td>1</td>\n",
       "      <td>1</td>\n",
       "      <td>53.25</td>\n",
       "      <td>37.55</td>\n",
       "      <td>7.56</td>\n",
       "      <td>2.38</td>\n",
       "    </tr>\n",
       "    <tr>\n",
       "      <th>1</th>\n",
       "      <td>61.50</td>\n",
       "      <td>3</td>\n",
       "      <td>0.102</td>\n",
       "      <td>0.102</td>\n",
       "      <td>0.051</td>\n",
       "      <td>1</td>\n",
       "      <td>2</td>\n",
       "      <td>3</td>\n",
       "      <td>0</td>\n",
       "      <td>1</td>\n",
       "      <td>...</td>\n",
       "      <td>0</td>\n",
       "      <td>0</td>\n",
       "      <td>0</td>\n",
       "      <td>0</td>\n",
       "      <td>1</td>\n",
       "      <td>1</td>\n",
       "      <td>21.82</td>\n",
       "      <td>23.23</td>\n",
       "      <td>7.02</td>\n",
       "      <td>2.38</td>\n",
       "    </tr>\n",
       "    <tr>\n",
       "      <th>2</th>\n",
       "      <td>77.37</td>\n",
       "      <td>2</td>\n",
       "      <td>0.048</td>\n",
       "      <td>0.048</td>\n",
       "      <td>0.024</td>\n",
       "      <td>0</td>\n",
       "      <td>0</td>\n",
       "      <td>4</td>\n",
       "      <td>0</td>\n",
       "      <td>1</td>\n",
       "      <td>...</td>\n",
       "      <td>1</td>\n",
       "      <td>0</td>\n",
       "      <td>0</td>\n",
       "      <td>0</td>\n",
       "      <td>0</td>\n",
       "      <td>0</td>\n",
       "      <td>31.13</td>\n",
       "      <td>30.83</td>\n",
       "      <td>11.55</td>\n",
       "      <td>2.38</td>\n",
       "    </tr>\n",
       "    <tr>\n",
       "      <th>3</th>\n",
       "      <td>150.28</td>\n",
       "      <td>4</td>\n",
       "      <td>0.051</td>\n",
       "      <td>0.051</td>\n",
       "      <td>0.026</td>\n",
       "      <td>0</td>\n",
       "      <td>2</td>\n",
       "      <td>5</td>\n",
       "      <td>0</td>\n",
       "      <td>1</td>\n",
       "      <td>...</td>\n",
       "      <td>1</td>\n",
       "      <td>1</td>\n",
       "      <td>1</td>\n",
       "      <td>0</td>\n",
       "      <td>0</td>\n",
       "      <td>1</td>\n",
       "      <td>56.48</td>\n",
       "      <td>62.20</td>\n",
       "      <td>6.83</td>\n",
       "      <td>2.38</td>\n",
       "    </tr>\n",
       "    <tr>\n",
       "      <th>4</th>\n",
       "      <td>105.60</td>\n",
       "      <td>1</td>\n",
       "      <td>0.048</td>\n",
       "      <td>0.048</td>\n",
       "      <td>0.024</td>\n",
       "      <td>0</td>\n",
       "      <td>2</td>\n",
       "      <td>3</td>\n",
       "      <td>0</td>\n",
       "      <td>0</td>\n",
       "      <td>...</td>\n",
       "      <td>1</td>\n",
       "      <td>1</td>\n",
       "      <td>0</td>\n",
       "      <td>0</td>\n",
       "      <td>1</td>\n",
       "      <td>1</td>\n",
       "      <td>50.08</td>\n",
       "      <td>23.49</td>\n",
       "      <td>7.05</td>\n",
       "      <td>2.38</td>\n",
       "    </tr>\n",
       "  </tbody>\n",
       "</table>\n",
       "<p>5 rows × 29 columns</p>\n",
       "</div>"
      ],
      "text/plain": [
       "   Floor_Area  Floor_Number  ofPeople_service  ofPeople_living  \\\n",
       "0       50.33             5             0.114            0.114   \n",
       "1       61.50             3             0.102            0.102   \n",
       "2       77.37             2             0.048            0.048   \n",
       "3      150.28             4             0.051            0.051   \n",
       "4      105.60             1             0.048            0.048   \n",
       "\n",
       "   ofPeople_bedroom  Construction_recorded  schedule_recorded  Window_Count  \\\n",
       "0             0.057                      0                  0             4   \n",
       "1             0.051                      1                  2             3   \n",
       "2             0.024                      0                  0             4   \n",
       "3             0.026                      0                  2             5   \n",
       "4             0.024                      0                  2             3   \n",
       "\n",
       "   w_north  w_north-east  ...  o_east  o_south-east  o_south  o_south-west  \\\n",
       "0        0             0  ...       0             0        0             0   \n",
       "1        0             1  ...       0             0        0             0   \n",
       "2        0             1  ...       1             0        0             0   \n",
       "3        0             1  ...       1             1        1             0   \n",
       "4        0             0  ...       1             1        0             0   \n",
       "\n",
       "   o_west  o_north-west  Cooling  Heating  Lighting  Equipment  \n",
       "0       1             1    53.25    37.55      7.56       2.38  \n",
       "1       1             1    21.82    23.23      7.02       2.38  \n",
       "2       0             0    31.13    30.83     11.55       2.38  \n",
       "3       0             1    56.48    62.20      6.83       2.38  \n",
       "4       1             1    50.08    23.49      7.05       2.38  \n",
       "\n",
       "[5 rows x 29 columns]"
      ]
     },
     "execution_count": 1,
     "metadata": {},
     "output_type": "execute_result"
    }
   ],
   "source": [
    "import pandas as pd\n",
    "\n",
    "df = pd.read_csv('Combined_Izmir_full.csv')\n",
    "\n",
    "#https://www.youtube.com/watch?v=2IpFKLohxOI\n",
    "# shuffle the generated data\n",
    "#ds = df.sample(frac=1)\n",
    "df.head(5)"
   ]
  },
  {
   "cell_type": "code",
   "execution_count": 2,
   "metadata": {},
   "outputs": [],
   "source": [
    "# Convert to numpy - Classification\n",
    "x_columns = df.columns.drop('Cooling').drop('Heating').drop('Lighting').drop('Equipment')\n",
    "x = df[x_columns].values\n",
    "y = df['Heating'].values"
   ]
  },
  {
   "cell_type": "code",
   "execution_count": 4,
   "metadata": {},
   "outputs": [
    {
     "name": "stdout",
     "output_type": "stream",
     "text": [
      "(1618, 25) (202, 25) (203, 25) (1618,) (202,) (203,)\n"
     ]
    }
   ],
   "source": [
    "from sklearn.model_selection import train_test_split\n",
    "import matplotlib.pyplot as plt\n",
    "from sklearn import preprocessing\n",
    "\n",
    "min_max_scaler = preprocessing.MinMaxScaler() \n",
    "x = min_max_scaler.fit_transform(x)\n",
    "\n",
    "\n",
    "#splitting of train and test set\n",
    "X_train, X_val_and_test, Y_train, Y_val_and_test = train_test_split(x, y, test_size=0.2)\n",
    "\n",
    "#splitting of test and validaiton set\n",
    "X_val, X_test, Y_val, Y_test = train_test_split(X_val_and_test, Y_val_and_test, test_size=0.5)\n",
    "print(X_train.shape, X_val.shape, X_test.shape, Y_train.shape, Y_val.shape, Y_test.shape)"
   ]
  },
  {
   "cell_type": "code",
   "execution_count": 6,
   "metadata": {},
   "outputs": [],
   "source": [
    "from tensorflow.keras.models import Sequential\n",
    "from tensorflow.keras.layers import Dense, Activation\n",
    "from tensorflow.keras.callbacks import EarlyStopping"
   ]
  },
  {
   "cell_type": "code",
   "execution_count": 12,
   "metadata": {},
   "outputs": [
    {
     "name": "stdout",
     "output_type": "stream",
     "text": [
      "Train on 1618 samples, validate on 202 samples\n",
      "Epoch 1/30\n",
      "1618/1618 - 1s - loss: 475.0087 - accuracy: 0.0000e+00 - mae: 16.7240 - val_loss: 112.5177 - val_accuracy: 0.0000e+00 - val_mae: 8.2511\n",
      "Epoch 2/30\n",
      "1618/1618 - 0s - loss: 86.3945 - accuracy: 0.0000e+00 - mae: 6.9847 - val_loss: 88.1670 - val_accuracy: 0.0000e+00 - val_mae: 7.0441\n",
      "Epoch 3/30\n",
      "1618/1618 - 0s - loss: 77.5661 - accuracy: 0.0000e+00 - mae: 6.5162 - val_loss: 77.6765 - val_accuracy: 0.0000e+00 - val_mae: 6.6912\n",
      "Epoch 4/30\n",
      "1618/1618 - 0s - loss: 70.7436 - accuracy: 0.0000e+00 - mae: 6.2436 - val_loss: 74.3908 - val_accuracy: 0.0000e+00 - val_mae: 6.4513\n",
      "Epoch 5/30\n",
      "1618/1618 - 0s - loss: 67.2210 - accuracy: 0.0000e+00 - mae: 6.0260 - val_loss: 71.5071 - val_accuracy: 0.0000e+00 - val_mae: 6.2550\n",
      "Epoch 6/30\n",
      "1618/1618 - 0s - loss: 64.6670 - accuracy: 0.0000e+00 - mae: 5.9476 - val_loss: 69.2246 - val_accuracy: 0.0000e+00 - val_mae: 6.3310\n",
      "Epoch 7/30\n",
      "1618/1618 - 0s - loss: 63.1832 - accuracy: 0.0000e+00 - mae: 5.8556 - val_loss: 69.9606 - val_accuracy: 0.0000e+00 - val_mae: 6.1886\n",
      "Epoch 8/30\n",
      "1618/1618 - 0s - loss: 60.6818 - accuracy: 0.0000e+00 - mae: 5.7510 - val_loss: 66.8656 - val_accuracy: 0.0000e+00 - val_mae: 6.0569\n",
      "Epoch 9/30\n",
      "1618/1618 - 0s - loss: 60.3012 - accuracy: 0.0000e+00 - mae: 5.7199 - val_loss: 66.8979 - val_accuracy: 0.0000e+00 - val_mae: 5.9948\n",
      "Epoch 10/30\n",
      "1618/1618 - 0s - loss: 56.4650 - accuracy: 0.0000e+00 - mae: 5.5238 - val_loss: 67.2689 - val_accuracy: 0.0000e+00 - val_mae: 6.2383\n",
      "Epoch 11/30\n",
      "1618/1618 - 0s - loss: 54.8078 - accuracy: 0.0000e+00 - mae: 5.4425 - val_loss: 69.2382 - val_accuracy: 0.0000e+00 - val_mae: 6.0681\n",
      "Epoch 12/30\n",
      "1618/1618 - 0s - loss: 54.0034 - accuracy: 0.0000e+00 - mae: 5.3973 - val_loss: 66.3346 - val_accuracy: 0.0000e+00 - val_mae: 5.9670\n",
      "Epoch 13/30\n",
      "1618/1618 - 0s - loss: 52.1979 - accuracy: 0.0000e+00 - mae: 5.3702 - val_loss: 64.1324 - val_accuracy: 0.0000e+00 - val_mae: 5.9437\n",
      "Epoch 14/30\n",
      "1618/1618 - 0s - loss: 49.3504 - accuracy: 0.0000e+00 - mae: 5.1762 - val_loss: 68.1901 - val_accuracy: 0.0000e+00 - val_mae: 5.8704\n",
      "Epoch 15/30\n",
      "1618/1618 - 0s - loss: 48.3569 - accuracy: 0.0000e+00 - mae: 5.1147 - val_loss: 60.5714 - val_accuracy: 0.0000e+00 - val_mae: 5.8238\n",
      "Epoch 16/30\n",
      "1618/1618 - 0s - loss: 46.3704 - accuracy: 0.0000e+00 - mae: 5.0169 - val_loss: 62.5417 - val_accuracy: 0.0000e+00 - val_mae: 5.8858\n",
      "Epoch 17/30\n",
      "1618/1618 - 0s - loss: 45.8009 - accuracy: 0.0000e+00 - mae: 4.9419 - val_loss: 60.3918 - val_accuracy: 0.0000e+00 - val_mae: 5.7692\n",
      "Epoch 18/30\n",
      "1618/1618 - 0s - loss: 44.5192 - accuracy: 0.0000e+00 - mae: 4.9209 - val_loss: 67.5002 - val_accuracy: 0.0000e+00 - val_mae: 6.3332\n",
      "Epoch 19/30\n",
      "1618/1618 - 0s - loss: 43.4472 - accuracy: 0.0000e+00 - mae: 4.8496 - val_loss: 61.1967 - val_accuracy: 0.0000e+00 - val_mae: 5.6538\n",
      "Epoch 20/30\n",
      "1618/1618 - 0s - loss: 40.8131 - accuracy: 0.0000e+00 - mae: 4.7009 - val_loss: 61.1057 - val_accuracy: 0.0000e+00 - val_mae: 5.9080\n",
      "Epoch 21/30\n",
      "1618/1618 - 0s - loss: 41.4803 - accuracy: 0.0000e+00 - mae: 4.7923 - val_loss: 59.8564 - val_accuracy: 0.0000e+00 - val_mae: 5.8466\n",
      "Epoch 22/30\n",
      "1618/1618 - 0s - loss: 39.5702 - accuracy: 0.0000e+00 - mae: 4.6764 - val_loss: 55.6434 - val_accuracy: 0.0000e+00 - val_mae: 5.5155\n",
      "Epoch 23/30\n",
      "1618/1618 - 0s - loss: 38.0095 - accuracy: 0.0000e+00 - mae: 4.5546 - val_loss: 56.3027 - val_accuracy: 0.0000e+00 - val_mae: 5.6375\n",
      "Epoch 24/30\n",
      "1618/1618 - 0s - loss: 37.3773 - accuracy: 0.0000e+00 - mae: 4.5181 - val_loss: 61.6199 - val_accuracy: 0.0000e+00 - val_mae: 6.0730\n",
      "Epoch 25/30\n",
      "1618/1618 - 0s - loss: 35.8731 - accuracy: 0.0000e+00 - mae: 4.4314 - val_loss: 67.6491 - val_accuracy: 0.0000e+00 - val_mae: 6.5123\n",
      "Epoch 26/30\n",
      "1618/1618 - 0s - loss: 36.2532 - accuracy: 0.0000e+00 - mae: 4.4986 - val_loss: 55.0580 - val_accuracy: 0.0000e+00 - val_mae: 5.4806\n",
      "Epoch 27/30\n",
      "1618/1618 - 0s - loss: 33.2961 - accuracy: 0.0000e+00 - mae: 4.2793 - val_loss: 53.5477 - val_accuracy: 0.0000e+00 - val_mae: 5.5180\n",
      "Epoch 28/30\n",
      "1618/1618 - 0s - loss: 33.7132 - accuracy: 0.0000e+00 - mae: 4.2674 - val_loss: 62.5956 - val_accuracy: 0.0000e+00 - val_mae: 6.0013\n",
      "Epoch 29/30\n",
      "1618/1618 - 0s - loss: 32.7845 - accuracy: 0.0000e+00 - mae: 4.2752 - val_loss: 58.1100 - val_accuracy: 0.0000e+00 - val_mae: 5.9701\n",
      "Epoch 30/30\n",
      "1618/1618 - 0s - loss: 31.9743 - accuracy: 0.0000e+00 - mae: 4.2458 - val_loss: 52.0326 - val_accuracy: 0.0000e+00 - val_mae: 5.3113\n"
     ]
    }
   ],
   "source": [
    "# Build the neural network\n",
    "# The number of epochs is the number of times the model will cycle through the data\n",
    "model = Sequential()\n",
    "\n",
    "'''\n",
    "#model.add(Dense(25, input_dim=x.shape[1], activation='relu')) # Hidden 1\n",
    "model.add(Dense(100, input_dim=x.shape[1], activation='relu')) # Hidden \n",
    "model.add(Dense(50, activation='relu')) # Hidden 2\n",
    "model.add(Dense(100, activation='relu')) # Hidden 3\n",
    "model.add(Dense(1)) # Output\n",
    "'''\n",
    "model.add(Dense(50, input_dim=x.shape[1], activation='relu'))\n",
    "model.add(Dense(40, activation='relu'))\n",
    "model.add(Dense(30, activation='relu'))\n",
    "model.add(Dense(20, activation='relu'))\n",
    "model.add(Dense(10, activation='relu'))\n",
    "model.add(Dense(1))\n",
    "\n",
    "model.compile(loss='mean_squared_error', optimizer='adam', metrics=['accuracy'])\n",
    "\n",
    "'''\n",
    "monitor = EarlyStopping(monitor='val_loss', min_delta=1e-3, \n",
    "                        patience=5, verbose=1, mode='auto', restore_best_weights=True)\n",
    "model.fit(x_train,y_train,validation_data=(x_test,y_test),callbacks=[monitor],verbose=2,epochs=100)\n",
    "'''\n",
    "\n",
    "hist = model.fit(X_train,Y_train,validation_data=(X_val,Y_val),batch_size=10,verbose=2,epochs=30)"
   ]
  },
  {
   "cell_type": "code",
   "execution_count": 12,
   "metadata": {},
   "outputs": [],
   "source": [
    "#model.evaluate(X_test, Y_test)"
   ]
  },
  {
   "cell_type": "code",
   "execution_count": 18,
   "metadata": {},
   "outputs": [
    {
     "name": "stdout",
     "output_type": "stream",
     "text": [
      "Final score (MSE): 68.11725872945917\n"
     ]
    }
   ],
   "source": [
    "from sklearn import metrics\n",
    "\n",
    "# Predict\n",
    "pred = model.predict(X_test)\n",
    "\n",
    "# Measure MSE error.  \n",
    "score = metrics.mean_squared_error(pred,Y_test)\n",
    "print(\"Final score (MSE): {}\".format(score))"
   ]
  },
  {
   "cell_type": "code",
   "execution_count": 19,
   "metadata": {},
   "outputs": [
    {
     "name": "stdout",
     "output_type": "stream",
     "text": [
      "Final score (RMSE): 8.253318043639126\n"
     ]
    }
   ],
   "source": [
    "import numpy as np\n",
    "\n",
    "# Measure RMSE error.  RMSE is common for regression.\n",
    "score = np.sqrt(metrics.mean_squared_error(pred,Y_test))\n",
    "print(\"Final score (RMSE): {}\".format(score))"
   ]
  },
  {
   "cell_type": "code",
   "execution_count": 20,
   "metadata": {},
   "outputs": [],
   "source": [
    "# Regression chart.\n",
    "def chart_regression(pred, y, sort=True):\n",
    "    t = pd.DataFrame({'pred': pred, 'y': y.flatten()})\n",
    "    if sort:\n",
    "        t.sort_values(by=['y'], inplace=True)\n",
    "    plt.plot(t['y'].tolist(), label='expected')\n",
    "    plt.plot(t['pred'].tolist(), label='prediction')\n",
    "    plt.ylabel('output')\n",
    "    plt.legend()\n",
    "    plt.show()"
   ]
  },
  {
   "cell_type": "code",
   "execution_count": 21,
   "metadata": {},
   "outputs": [
    {
     "data": {
      "image/png": "[encoded data removed]",
      "text/plain": [
       "<Figure size 432x288 with 1 Axes>"
      ]
     },
     "metadata": {
      "needs_background": "light"
     },
     "output_type": "display_data"
    }
   ],
   "source": [
    "# Plot the chart\n",
    "chart_regression(pred.flatten(),Y_test)"
   ]
  },
  {
   "cell_type": "code",
   "execution_count": 22,
   "metadata": {},
   "outputs": [
    {
     "data": {
      "image/png": "[encoded data removed]",
      "text/plain": [
       "<Figure size 432x288 with 1 Axes>"
      ]
     },
     "metadata": {
      "needs_background": "light"
     },
     "output_type": "display_data"
    }
   ],
   "source": [
    "# Visualizing Loss and Accuracy\n",
    "import matplotlib.pyplot as plt\n",
    "plt.plot(hist.history['loss'])\n",
    "plt.plot(hist.history['val_loss'])\n",
    "plt.title('Model loss')\n",
    "plt.ylabel('Loss')\n",
    "plt.xlabel('Epoch')\n",
    "plt.legend(['Train', 'Val'], loc='upper right')\n",
    "plt.show()"
   ]
  },
  {
   "cell_type": "code",
   "execution_count": 24,
   "metadata": {},
   "outputs": [
    {
     "data": {
      "image/png": "[encoded data removed]",
      "text/plain": [
       "<Figure size 432x288 with 1 Axes>"
      ]
     },
     "metadata": {
      "needs_background": "light"
     },
     "output_type": "display_data"
    }
   ],
   "source": [
    "plt.plot(hist.history['accuracy'])\n",
    "plt.plot(hist.history['val_accuracy'])\n",
    "plt.title('Model accuracy')\n",
    "plt.ylabel('Accuracy')\n",
    "plt.xlabel('Epoch')\n",
    "plt.legend(['Train', 'Val'], loc='lower right')\n",
    "plt.show()"
   ]
  },
  {
   "cell_type": "code",
   "execution_count": null,
   "metadata": {},
   "outputs": [],
   "source": []
  }
 ],
 "metadata": {
  "kernelspec": {
   "display_name": "Python 3",
   "language": "python",
   "name": "python3"
  },
  "language_info": {
   "codemirror_mode": {
    "name": "ipython",
    "version": 3
   },
   "file_extension": ".py",
   "mimetype": "text/x-python",
   "name": "python",
   "nbconvert_exporter": "python",
   "pygments_lexer": "ipython3",
   "version": "3.7.6"
  }
 },
 "nbformat": 4,
 "nbformat_minor": 4
}
